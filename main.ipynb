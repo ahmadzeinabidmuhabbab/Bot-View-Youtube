{
 "cells": [
  {
   "cell_type": "code",
   "execution_count": 8,
   "metadata": {},
   "outputs": [
    {
     "name": "stdout",
     "output_type": "stream",
     "text": [
      "Watching video, iteration 1\n",
      "Watching video, iteration 2\n",
      "Watching video, iteration 3\n",
      "Watching video, iteration 4\n",
      "Watching video, iteration 5\n"
     ]
    }
   ],
   "source": [
    "import time\n",
    "import asyncio\n",
    "from playwright.async_api import async_playwright\n",
    "\n",
    "async def watch_youtube_video(video_url):\n",
    "    \"\"\"Opens a YouTube video, watches it for 2 minutes, and closes the browser.\"\"\"\n",
    "    async with async_playwright() as pw:\n",
    "        browser = await pw.chromium.launch(headless=False)\n",
    "        page = await browser.new_page()\n",
    "\n",
    "        # Navigate to the YouTube video\n",
    "        await page.goto(video_url)\n",
    "        await asyncio.sleep(2)  # Wait briefly to ensure the page is loaded\n",
    "        await page.keyboard.press(\"Space\")\n",
    "\n",
    "        # Wait for 2 minutes (120 seconds) to \"watch\" the video\n",
    "        await asyncio.sleep(60)\n",
    "\n",
    "        # Close the browser\n",
    "        await page.close()\n",
    "        await browser.close()\n",
    "\n",
    "async def main():\n",
    "    # Specify the YouTube video link here\n",
    "    video_url = \"https://www.youtube.com/watch?v=KMatv2LdMzs&t=252s\"\n",
    "    # await watch_youtube_video(video_url)\n",
    "    # banyak loop di sini\n",
    "    for i in range(100):\n",
    "        print(f\"Watching video, iteration {i+1}\")\n",
    "        try:\n",
    "            await watch_youtube_video(video_url)\n",
    "        except Exception as e:\n",
    "            print(f\"An error occurred on iteration {i+1}: {e}\")\n",
    "        await asyncio.sleep(10)  # Small delay between iterations if needed\n",
    "\n",
    "if __name__ == '__main__':\n",
    "    try:\n",
    "        asyncio.get_running_loop()\n",
    "        asyncio.create_task(main())\n",
    "    except RuntimeError:\n",
    "        asyncio.run(main())\n"
   ]
  }
 ],
 "metadata": {
  "kernelspec": {
   "display_name": "Python 3",
   "language": "python",
   "name": "python3"
  },
  "language_info": {
   "codemirror_mode": {
    "name": "ipython",
    "version": 3
   },
   "file_extension": ".py",
   "mimetype": "text/x-python",
   "name": "python",
   "nbconvert_exporter": "python",
   "pygments_lexer": "ipython3",
   "version": "3.12.1"
  }
 },
 "nbformat": 4,
 "nbformat_minor": 2
}
